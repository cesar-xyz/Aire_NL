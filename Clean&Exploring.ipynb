{
 "cells": [
  {
   "cell_type": "code",
   "execution_count": 1,
   "metadata": {
    "collapsed": true,
    "pycharm": {
     "name": "#%%\n"
    }
   },
   "outputs": [],
   "source": [
    "import pandas as pd"
   ]
  },
  {
   "cell_type": "code",
   "execution_count": 2,
   "outputs": [],
   "source": [
    "initialDfMete = pd.read_csv(\"data/Metereologia.csv\")\n",
    "initialDfCont = pd.read_csv(\"data/Contaminantes.csv\")"
   ],
   "metadata": {
    "collapsed": false,
    "pycharm": {
     "name": "#%%\n"
    }
   }
  },
  {
   "cell_type": "code",
   "execution_count": 3,
   "outputs": [
    {
     "data": {
      "text/plain": "   Unnamed: 0                 date parameter  SE SE_b   NE NE_b   CE CE_b  \\\n0      239459  2021-07-01 00:00:00     TOUT  NaN    x  NaN    x  NaN    x   \n1      239460  2021-07-01 00:00:00     RH    NaN    x  NaN    x  NaN    x   \n2      239461  2021-07-01 00:00:00     SR    NaN    x  0.0    l  0.0    l   \n3      239462  2021-07-01 00:00:00     PRS   NaN    x  NaN    x  NaN    x   \n4      239463  2021-07-01 00:00:00     RAINF NaN    x  NaN    x  NaN    x   \n\n    NO  ...  SO2  SO2_b  SE3  SE3_b  SUR  SUR_b Norte2  NTE2_b  NE3  NE3_b  \n0  NaN  ...  NaN      x  NaN      x  NaN      x    NaN       x  NaN      x  \n1  NaN  ...  NaN      x  NaN      l  NaN      l    NaN       l  NaN      x  \n2  0.0  ...  0.0      l  0.0      l  0.0      l    0.0       l  0.0      x  \n3  NaN  ...  NaN      x  NaN      l  NaN      l    NaN       l  NaN      x  \n4  NaN  ...  NaN      x  NaN      l  NaN      l    NaN       l  NaN      x  \n\n[5 rows x 31 columns]",
      "text/html": "<div>\n<style scoped>\n    .dataframe tbody tr th:only-of-type {\n        vertical-align: middle;\n    }\n\n    .dataframe tbody tr th {\n        vertical-align: top;\n    }\n\n    .dataframe thead th {\n        text-align: right;\n    }\n</style>\n<table border=\"1\" class=\"dataframe\">\n  <thead>\n    <tr style=\"text-align: right;\">\n      <th></th>\n      <th>Unnamed: 0</th>\n      <th>date</th>\n      <th>parameter</th>\n      <th>SE</th>\n      <th>SE_b</th>\n      <th>NE</th>\n      <th>NE_b</th>\n      <th>CE</th>\n      <th>CE_b</th>\n      <th>NO</th>\n      <th>...</th>\n      <th>SO2</th>\n      <th>SO2_b</th>\n      <th>SE3</th>\n      <th>SE3_b</th>\n      <th>SUR</th>\n      <th>SUR_b</th>\n      <th>Norte2</th>\n      <th>NTE2_b</th>\n      <th>NE3</th>\n      <th>NE3_b</th>\n    </tr>\n  </thead>\n  <tbody>\n    <tr>\n      <th>0</th>\n      <td>239459</td>\n      <td>2021-07-01 00:00:00</td>\n      <td>TOUT</td>\n      <td>NaN</td>\n      <td>x</td>\n      <td>NaN</td>\n      <td>x</td>\n      <td>NaN</td>\n      <td>x</td>\n      <td>NaN</td>\n      <td>...</td>\n      <td>NaN</td>\n      <td>x</td>\n      <td>NaN</td>\n      <td>x</td>\n      <td>NaN</td>\n      <td>x</td>\n      <td>NaN</td>\n      <td>x</td>\n      <td>NaN</td>\n      <td>x</td>\n    </tr>\n    <tr>\n      <th>1</th>\n      <td>239460</td>\n      <td>2021-07-01 00:00:00</td>\n      <td>RH</td>\n      <td>NaN</td>\n      <td>x</td>\n      <td>NaN</td>\n      <td>x</td>\n      <td>NaN</td>\n      <td>x</td>\n      <td>NaN</td>\n      <td>...</td>\n      <td>NaN</td>\n      <td>x</td>\n      <td>NaN</td>\n      <td>l</td>\n      <td>NaN</td>\n      <td>l</td>\n      <td>NaN</td>\n      <td>l</td>\n      <td>NaN</td>\n      <td>x</td>\n    </tr>\n    <tr>\n      <th>2</th>\n      <td>239461</td>\n      <td>2021-07-01 00:00:00</td>\n      <td>SR</td>\n      <td>NaN</td>\n      <td>x</td>\n      <td>0.0</td>\n      <td>l</td>\n      <td>0.0</td>\n      <td>l</td>\n      <td>0.0</td>\n      <td>...</td>\n      <td>0.0</td>\n      <td>l</td>\n      <td>0.0</td>\n      <td>l</td>\n      <td>0.0</td>\n      <td>l</td>\n      <td>0.0</td>\n      <td>l</td>\n      <td>0.0</td>\n      <td>x</td>\n    </tr>\n    <tr>\n      <th>3</th>\n      <td>239462</td>\n      <td>2021-07-01 00:00:00</td>\n      <td>PRS</td>\n      <td>NaN</td>\n      <td>x</td>\n      <td>NaN</td>\n      <td>x</td>\n      <td>NaN</td>\n      <td>x</td>\n      <td>NaN</td>\n      <td>...</td>\n      <td>NaN</td>\n      <td>x</td>\n      <td>NaN</td>\n      <td>l</td>\n      <td>NaN</td>\n      <td>l</td>\n      <td>NaN</td>\n      <td>l</td>\n      <td>NaN</td>\n      <td>x</td>\n    </tr>\n    <tr>\n      <th>4</th>\n      <td>239463</td>\n      <td>2021-07-01 00:00:00</td>\n      <td>RAINF</td>\n      <td>NaN</td>\n      <td>x</td>\n      <td>NaN</td>\n      <td>x</td>\n      <td>NaN</td>\n      <td>x</td>\n      <td>NaN</td>\n      <td>...</td>\n      <td>NaN</td>\n      <td>x</td>\n      <td>NaN</td>\n      <td>l</td>\n      <td>NaN</td>\n      <td>l</td>\n      <td>NaN</td>\n      <td>l</td>\n      <td>NaN</td>\n      <td>x</td>\n    </tr>\n  </tbody>\n</table>\n<p>5 rows × 31 columns</p>\n</div>"
     },
     "execution_count": 3,
     "metadata": {},
     "output_type": "execute_result"
    }
   ],
   "source": [
    "initialDfMete.head()"
   ],
   "metadata": {
    "collapsed": false,
    "pycharm": {
     "name": "#%%\n"
    }
   }
  },
  {
   "cell_type": "code",
   "execution_count": 4,
   "outputs": [
    {
     "data": {
      "text/plain": "   Unnamed: 0                 date parameter  SE SE_b  NE NE_b  CE CE_b  NO  \\\n0      205739  2021-07-01 00:00:00     PM10  NaN    x NaN    x NaN    x NaN   \n1      205740  2021-07-01 00:00:00     PM2.5 NaN    x NaN    x NaN    x NaN   \n2      205741  2021-07-01 00:00:00     O3    NaN    x NaN    x NaN    x NaN   \n3      205742  2021-07-01 00:00:00     SO2   NaN    x NaN    x NaN    x NaN   \n4      205743  2021-07-01 00:00:00     NO2   NaN    e NaN    x NaN    x NaN   \n\n   ... SO2  SO2_b SE3  SE3_b SUR  SUR_b Norte2  NTE2_b NE3  NE3_b  \n0  ... NaN      x NaN      l NaN      l    NaN       l NaN      x  \n1  ... NaN      x NaN      l NaN      l    NaN       l NaN      x  \n2  ... NaN      x NaN      l NaN      l    NaN       l NaN      x  \n3  ... NaN      x NaN      l NaN      l    NaN       l NaN      x  \n4  ... NaN      e NaN      e NaN      e    NaN       e NaN      e  \n\n[5 rows x 31 columns]",
      "text/html": "<div>\n<style scoped>\n    .dataframe tbody tr th:only-of-type {\n        vertical-align: middle;\n    }\n\n    .dataframe tbody tr th {\n        vertical-align: top;\n    }\n\n    .dataframe thead th {\n        text-align: right;\n    }\n</style>\n<table border=\"1\" class=\"dataframe\">\n  <thead>\n    <tr style=\"text-align: right;\">\n      <th></th>\n      <th>Unnamed: 0</th>\n      <th>date</th>\n      <th>parameter</th>\n      <th>SE</th>\n      <th>SE_b</th>\n      <th>NE</th>\n      <th>NE_b</th>\n      <th>CE</th>\n      <th>CE_b</th>\n      <th>NO</th>\n      <th>...</th>\n      <th>SO2</th>\n      <th>SO2_b</th>\n      <th>SE3</th>\n      <th>SE3_b</th>\n      <th>SUR</th>\n      <th>SUR_b</th>\n      <th>Norte2</th>\n      <th>NTE2_b</th>\n      <th>NE3</th>\n      <th>NE3_b</th>\n    </tr>\n  </thead>\n  <tbody>\n    <tr>\n      <th>0</th>\n      <td>205739</td>\n      <td>2021-07-01 00:00:00</td>\n      <td>PM10</td>\n      <td>NaN</td>\n      <td>x</td>\n      <td>NaN</td>\n      <td>x</td>\n      <td>NaN</td>\n      <td>x</td>\n      <td>NaN</td>\n      <td>...</td>\n      <td>NaN</td>\n      <td>x</td>\n      <td>NaN</td>\n      <td>l</td>\n      <td>NaN</td>\n      <td>l</td>\n      <td>NaN</td>\n      <td>l</td>\n      <td>NaN</td>\n      <td>x</td>\n    </tr>\n    <tr>\n      <th>1</th>\n      <td>205740</td>\n      <td>2021-07-01 00:00:00</td>\n      <td>PM2.5</td>\n      <td>NaN</td>\n      <td>x</td>\n      <td>NaN</td>\n      <td>x</td>\n      <td>NaN</td>\n      <td>x</td>\n      <td>NaN</td>\n      <td>...</td>\n      <td>NaN</td>\n      <td>x</td>\n      <td>NaN</td>\n      <td>l</td>\n      <td>NaN</td>\n      <td>l</td>\n      <td>NaN</td>\n      <td>l</td>\n      <td>NaN</td>\n      <td>x</td>\n    </tr>\n    <tr>\n      <th>2</th>\n      <td>205741</td>\n      <td>2021-07-01 00:00:00</td>\n      <td>O3</td>\n      <td>NaN</td>\n      <td>x</td>\n      <td>NaN</td>\n      <td>x</td>\n      <td>NaN</td>\n      <td>x</td>\n      <td>NaN</td>\n      <td>...</td>\n      <td>NaN</td>\n      <td>x</td>\n      <td>NaN</td>\n      <td>l</td>\n      <td>NaN</td>\n      <td>l</td>\n      <td>NaN</td>\n      <td>l</td>\n      <td>NaN</td>\n      <td>x</td>\n    </tr>\n    <tr>\n      <th>3</th>\n      <td>205742</td>\n      <td>2021-07-01 00:00:00</td>\n      <td>SO2</td>\n      <td>NaN</td>\n      <td>x</td>\n      <td>NaN</td>\n      <td>x</td>\n      <td>NaN</td>\n      <td>x</td>\n      <td>NaN</td>\n      <td>...</td>\n      <td>NaN</td>\n      <td>x</td>\n      <td>NaN</td>\n      <td>l</td>\n      <td>NaN</td>\n      <td>l</td>\n      <td>NaN</td>\n      <td>l</td>\n      <td>NaN</td>\n      <td>x</td>\n    </tr>\n    <tr>\n      <th>4</th>\n      <td>205743</td>\n      <td>2021-07-01 00:00:00</td>\n      <td>NO2</td>\n      <td>NaN</td>\n      <td>e</td>\n      <td>NaN</td>\n      <td>x</td>\n      <td>NaN</td>\n      <td>x</td>\n      <td>NaN</td>\n      <td>...</td>\n      <td>NaN</td>\n      <td>e</td>\n      <td>NaN</td>\n      <td>e</td>\n      <td>NaN</td>\n      <td>e</td>\n      <td>NaN</td>\n      <td>e</td>\n      <td>NaN</td>\n      <td>e</td>\n    </tr>\n  </tbody>\n</table>\n<p>5 rows × 31 columns</p>\n</div>"
     },
     "execution_count": 4,
     "metadata": {},
     "output_type": "execute_result"
    }
   ],
   "source": [
    "initialDfCont.head()"
   ],
   "metadata": {
    "collapsed": false,
    "pycharm": {
     "name": "#%%\n"
    }
   }
  },
  {
   "cell_type": "code",
   "execution_count": 5,
   "outputs": [],
   "source": [
    "columns = [\"Unnamed: 0\", \"date\", \"parameter\", \"NE\", \"NE_b\"]\n",
    "dfMete = initialDfMete[columns]"
   ],
   "metadata": {
    "collapsed": false,
    "pycharm": {
     "name": "#%%\n"
    }
   }
  },
  {
   "cell_type": "code",
   "execution_count": 6,
   "outputs": [],
   "source": [
    "dfCont = initialDfCont[columns]"
   ],
   "metadata": {
    "collapsed": false,
    "pycharm": {
     "name": "#%%\n"
    }
   }
  },
  {
   "cell_type": "code",
   "execution_count": 7,
   "outputs": [
    {
     "data": {
      "text/plain": "   Unnamed: 0                 date parameter   NE NE_b\n0      239459  2021-07-01 00:00:00     TOUT   NaN    x\n1      239460  2021-07-01 00:00:00     RH     NaN    x\n2      239461  2021-07-01 00:00:00     SR     0.0    l\n3      239462  2021-07-01 00:00:00     PRS    NaN    x\n4      239463  2021-07-01 00:00:00     RAINF  NaN    x",
      "text/html": "<div>\n<style scoped>\n    .dataframe tbody tr th:only-of-type {\n        vertical-align: middle;\n    }\n\n    .dataframe tbody tr th {\n        vertical-align: top;\n    }\n\n    .dataframe thead th {\n        text-align: right;\n    }\n</style>\n<table border=\"1\" class=\"dataframe\">\n  <thead>\n    <tr style=\"text-align: right;\">\n      <th></th>\n      <th>Unnamed: 0</th>\n      <th>date</th>\n      <th>parameter</th>\n      <th>NE</th>\n      <th>NE_b</th>\n    </tr>\n  </thead>\n  <tbody>\n    <tr>\n      <th>0</th>\n      <td>239459</td>\n      <td>2021-07-01 00:00:00</td>\n      <td>TOUT</td>\n      <td>NaN</td>\n      <td>x</td>\n    </tr>\n    <tr>\n      <th>1</th>\n      <td>239460</td>\n      <td>2021-07-01 00:00:00</td>\n      <td>RH</td>\n      <td>NaN</td>\n      <td>x</td>\n    </tr>\n    <tr>\n      <th>2</th>\n      <td>239461</td>\n      <td>2021-07-01 00:00:00</td>\n      <td>SR</td>\n      <td>0.0</td>\n      <td>l</td>\n    </tr>\n    <tr>\n      <th>3</th>\n      <td>239462</td>\n      <td>2021-07-01 00:00:00</td>\n      <td>PRS</td>\n      <td>NaN</td>\n      <td>x</td>\n    </tr>\n    <tr>\n      <th>4</th>\n      <td>239463</td>\n      <td>2021-07-01 00:00:00</td>\n      <td>RAINF</td>\n      <td>NaN</td>\n      <td>x</td>\n    </tr>\n  </tbody>\n</table>\n</div>"
     },
     "execution_count": 7,
     "metadata": {},
     "output_type": "execute_result"
    }
   ],
   "source": [
    "dfMete.head()"
   ],
   "metadata": {
    "collapsed": false,
    "pycharm": {
     "name": "#%%\n"
    }
   }
  },
  {
   "cell_type": "code",
   "execution_count": 8,
   "outputs": [
    {
     "data": {
      "text/plain": "   Unnamed: 0                 date parameter  NE NE_b\n0      205739  2021-07-01 00:00:00     PM10  NaN    x\n1      205740  2021-07-01 00:00:00     PM2.5 NaN    x\n2      205741  2021-07-01 00:00:00     O3    NaN    x\n3      205742  2021-07-01 00:00:00     SO2   NaN    x\n4      205743  2021-07-01 00:00:00     NO2   NaN    x",
      "text/html": "<div>\n<style scoped>\n    .dataframe tbody tr th:only-of-type {\n        vertical-align: middle;\n    }\n\n    .dataframe tbody tr th {\n        vertical-align: top;\n    }\n\n    .dataframe thead th {\n        text-align: right;\n    }\n</style>\n<table border=\"1\" class=\"dataframe\">\n  <thead>\n    <tr style=\"text-align: right;\">\n      <th></th>\n      <th>Unnamed: 0</th>\n      <th>date</th>\n      <th>parameter</th>\n      <th>NE</th>\n      <th>NE_b</th>\n    </tr>\n  </thead>\n  <tbody>\n    <tr>\n      <th>0</th>\n      <td>205739</td>\n      <td>2021-07-01 00:00:00</td>\n      <td>PM10</td>\n      <td>NaN</td>\n      <td>x</td>\n    </tr>\n    <tr>\n      <th>1</th>\n      <td>205740</td>\n      <td>2021-07-01 00:00:00</td>\n      <td>PM2.5</td>\n      <td>NaN</td>\n      <td>x</td>\n    </tr>\n    <tr>\n      <th>2</th>\n      <td>205741</td>\n      <td>2021-07-01 00:00:00</td>\n      <td>O3</td>\n      <td>NaN</td>\n      <td>x</td>\n    </tr>\n    <tr>\n      <th>3</th>\n      <td>205742</td>\n      <td>2021-07-01 00:00:00</td>\n      <td>SO2</td>\n      <td>NaN</td>\n      <td>x</td>\n    </tr>\n    <tr>\n      <th>4</th>\n      <td>205743</td>\n      <td>2021-07-01 00:00:00</td>\n      <td>NO2</td>\n      <td>NaN</td>\n      <td>x</td>\n    </tr>\n  </tbody>\n</table>\n</div>"
     },
     "execution_count": 8,
     "metadata": {},
     "output_type": "execute_result"
    }
   ],
   "source": [
    "dfCont.head()"
   ],
   "metadata": {
    "collapsed": false,
    "pycharm": {
     "name": "#%%\n"
    }
   }
  }
 ],
 "metadata": {
  "kernelspec": {
   "display_name": "Python 3",
   "language": "python",
   "name": "python3"
  },
  "language_info": {
   "codemirror_mode": {
    "name": "ipython",
    "version": 2
   },
   "file_extension": ".py",
   "mimetype": "text/x-python",
   "name": "python",
   "nbconvert_exporter": "python",
   "pygments_lexer": "ipython2",
   "version": "2.7.6"
  }
 },
 "nbformat": 4,
 "nbformat_minor": 0
}